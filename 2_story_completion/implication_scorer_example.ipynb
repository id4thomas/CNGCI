{
 "cells": [
  {
   "cell_type": "code",
   "execution_count": null,
   "metadata": {},
   "outputs": [],
   "source": [
    "from src.modules.loader import (\n",
    "\tload_subject_extractor,\n",
    "\tload_commonsense_generator,\n",
    "\tload_nli_predictor\n",
    ")\n",
    "from src.modules.commonsense_relation_generator import CATEGORIES\n",
    "from src.story_dataclasses import CommonsenseRelation, StorySentence, ConflictStory\n",
    "\n",
    "import torch"
   ]
  },
  {
   "cell_type": "code",
   "execution_count": null,
   "metadata": {},
   "outputs": [],
   "source": [
    "device = torch.device(\"cpu\")"
   ]
  },
  {
   "cell_type": "markdown",
   "metadata": {},
   "source": [
    "# 1. Load Modules"
   ]
  },
  {
   "cell_type": "code",
   "execution_count": null,
   "metadata": {},
   "outputs": [],
   "source": [
    "subject_extractor = load_subject_extractor(model = \"en_core_web_sm\")"
   ]
  },
  {
   "cell_type": "code",
   "execution_count": null,
   "metadata": {},
   "outputs": [],
   "source": [
    "commonsense_generator = load_commonsense_generator(\n",
    "\tcomet_model_dir = \"\",\n",
    "\tembedding_model_dir = \"\",\n",
    "\tdevice = device\n",
    ")"
   ]
  },
  {
   "cell_type": "code",
   "execution_count": null,
   "metadata": {},
   "outputs": [],
   "source": [
    "nli_predictor = load_nli_predictor(\n",
    "\tmodel_dir = \"\",\n",
    "\tdevice = device\n",
    ")"
   ]
  },
  {
   "cell_type": "markdown",
   "metadata": {},
   "source": [
    "# 2. Make Sample Story"
   ]
  },
  {
   "cell_type": "code",
   "execution_count": null,
   "metadata": {},
   "outputs": [],
   "source": [
    "## Initialize Sample Story\n",
    "text_generator_batch_size = 32\n",
    "text_embedder_batch_size = 128\n",
    "context_sentence = StorySentence(\n",
    "\tidx = 0,\n",
    "\tvalue = \"Lana was trying to figure out how to play a song.\",\n",
    "\tcharacter = \"\",\n",
    "\tsentence_type = \"context\",\n",
    "\tcommonsense_relations = []\n",
    ")\n",
    "context_sentence.commonsense_relations = commonsense_generator.generate(\n",
    "\tcontext_sentence.value,\n",
    "\trelation_types = CATEGORIES,\n",
    "\tdecode_params = decode_params,\n",
    "\ttext_generator_batch_size = text_generator_batch_size,\n",
    "\ttext_embedder_batch_size = text_embedder_batch_size\n",
    ")\n",
    "\n",
    "obstacle_sentence = StorySentence(\n",
    "\tidx = 2,\n",
    "\tvalue = \"The song is very difficult.\",\n",
    "\tcharacter = \"\",\n",
    "\tsentence_type = \"obstacle\",\n",
    "\tcommonsense_relations = []\n",
    ")\n",
    "obstacle_sentence.commonsense_relations = commonsense_generator.generate(\n",
    "\tobstacle_sentence.value,\n",
    "\trelation_types = CATEGORIES,\n",
    "\tdecode_params = decode_params,\n",
    "\ttext_generator_batch_size = text_generator_batch_size,\n",
    "\ttext_embedder_batch_size = text_embedder_batch_size\n",
    ")\n",
    "\n",
    "## S2\n",
    "s2_sentence = StorySentence(\n",
    "\tidx = 1,\n",
    "\tvalue = \"For some reason, she couldn't figure out how to play the song.\",\n",
    "\tcharacter = \"\",\n",
    "\tsentence_type = \"other\",\n",
    "\tcommonsense_relations = []\n",
    ")\n",
    "s2_sentence.commonsense_relations = commonsense_generator.generate(\n",
    "\ts2_sentence.value,\n",
    "\trelation_types = CATEGORIES,\n",
    "\tdecode_params = decode_params,\n",
    "\ttext_generator_batch_size = text_generator_batch_size,\n",
    "\ttext_embedder_batch_size = text_embedder_batch_size\n",
    ")"
   ]
  },
  {
   "cell_type": "code",
   "execution_count": null,
   "metadata": {},
   "outputs": [],
   "source": [
    "## S4\n",
    "s4_candidate = StorySentence(\n",
    "\tidx = 3,\n",
    "\tvalue = \"Finally she decided to ask her friend for help.\",\n",
    "\tcharacter = \"\",\n",
    "\tsentence_type = \"other\",\n",
    "\tcommonsense_relations = []\n",
    ")\n",
    "s4_candidate.commonsense_relations = commonsense_generator.generate(\n",
    "\ts4_candidate.value,\n",
    "\trelation_types = CATEGORIES,\n",
    "\tdecode_params = decode_params,\n",
    "\ttext_generator_batch_size = text_generator_batch_size,\n",
    "\ttext_embedder_batch_size = text_embedder_batch_size\n",
    ")"
   ]
  },
  {
   "cell_type": "code",
   "execution_count": null,
   "metadata": {},
   "outputs": [],
   "source": [
    "story = ConflictStory(\n",
    "\tnum_sentences = 4,\n",
    "\tcontext_idx = 0,\n",
    "\tobstacle_idx = 2,\n",
    "\tsentences = {\n",
    "\t\t0: context_sentence,\n",
    "\t\t1: s2_sentence,\n",
    "\t\t2: obstacle_sentence,\n",
    "\t\t3: s4_candidate\n",
    "\t}\n",
    ")"
   ]
  },
  {
   "cell_type": "markdown",
   "metadata": {},
   "source": [
    "# 3. Test ImplicationRuleScorer"
   ]
  },
  {
   "cell_type": "code",
   "execution_count": null,
   "metadata": {},
   "outputs": [],
   "source": [
    "rule_dir = \"/Users/id4thomas/github/CNGCI/2_story_completion/rule_configs/comet_rule4.json\"\n",
    "with open(rule_dir, \"r\") as f:\n",
    "\trules = json.load(f)\n",
    "\n",
    "scorer = ImplicationRuleScorer(\n",
    "\tnli_rules = rules[\"implication\"],\n",
    "\tweight_rules = rules[\"weights\"],\n",
    "\tsubject_extractor = subject_extractor,\n",
    "\tnli_predictor = nli_predictor,\n",
    "\tnli_predictor_batch_size = 128\n",
    ")"
   ]
  },
  {
   "cell_type": "code",
   "execution_count": null,
   "metadata": {},
   "outputs": [],
   "source": [
    "scorer.calculate_score(\n",
    "\tstory = story,\n",
    "\tcandidate_sentence_idx = 3,\n",
    "\tcomparing_sentence_type = \"context\",\n",
    "\t# comparing_sentence_type = \"obstacle\",\n",
    "\t# comparing_sentence_type = \"preceding\",\n",
    ")"
   ]
  }
 ],
 "metadata": {
  "language_info": {
   "name": "python"
  }
 },
 "nbformat": 4,
 "nbformat_minor": 2
}
