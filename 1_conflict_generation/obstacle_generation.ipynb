{
 "cells": [
  {
   "cell_type": "code",
   "execution_count": null,
   "metadata": {},
   "outputs": [],
   "source": [
    "import os\n",
    "import json\n",
    "import torch\n",
    "from transformers import AutoTokenizer, AutoModelForCausalLM\n",
    "\n",
    "from obstacle_generator.src.obstacle_generator import ObstacleGenerator"
   ]
  },
  {
   "cell_type": "code",
   "execution_count": null,
   "metadata": {},
   "outputs": [],
   "source": [
    "device = torch.device(\"cuda\")\n",
    "model_dir = \"/Users/id4thomas/models/cngci_obstacle/only_weakeners/atomic_weakener_phu_gpt2-xl_batch64_lr1e-05_seed10/epoch_end\""
   ]
  },
  {
   "cell_type": "code",
   "execution_count": null,
   "metadata": {},
   "outputs": [],
   "source": [
    "## Load Tokenizer & model\n",
    "tokenizer = AutoTokenizer.from_pretrained(model_dir)\n",
    "model = AutoModelForCausalLM.from_pretrained(model_dir)\n",
    "model.eval()\n",
    "print(\"Loaded model & tokenizer\")"
   ]
  },
  {
   "cell_type": "code",
   "execution_count": null,
   "metadata": {},
   "outputs": [],
   "source": [
    "obs_generator = ObstacleGenerator(\n",
    "\tmodel = model,\n",
    "\ttokenizer = tokenizer,\n",
    "\tdevice = device\n",
    ")"
   ]
  },
  {
   "cell_type": "code",
   "execution_count": null,
   "metadata": {},
   "outputs": [],
   "source": [
    "contexts = [\n",
    "\t\"\"\n",
    "],\n",
    "\n",
    "goals = [\n",
    "\t\"\"\n",
    "]\n",
    "\n",
    "decode_params={\n",
    "\t'num_return_sequences': 1,\n",
    "\t'max_length': 128 + 32 ,\n",
    "\t'num_beams': 3,\n",
    "\t# 'temperature': 0.9,\n",
    "\t# 'top_p': 0.9,\n",
    "\t# 'top_k': 40,\n",
    "\t# 'repetition_penalty': 1.2,                    \n",
    "\t# 'no_repeat_ngram_size': 2,\n",
    "\t# length_penalty=1.5, # 1\n",
    "\t# 'early_stopping': True,\n",
    "}"
   ]
  },
  {
   "cell_type": "code",
   "execution_count": null,
   "metadata": {},
   "outputs": [],
   "source": [
    "obstacles = obs_generator.generate(\n",
    "\tcontexts = contexts,\n",
    "\tgoals = goals,\n",
    "\tdecode_params = decode_params\n",
    ")"
   ]
  },
  {
   "cell_type": "code",
   "execution_count": null,
   "metadata": {},
   "outputs": [],
   "source": [
    "obstacles"
   ]
  }
 ],
 "metadata": {
  "language_info": {
   "name": "python"
  }
 },
 "nbformat": 4,
 "nbformat_minor": 2
}
