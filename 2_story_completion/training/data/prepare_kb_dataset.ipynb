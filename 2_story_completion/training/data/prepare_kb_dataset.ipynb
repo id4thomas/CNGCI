{
 "cells": [
  {
   "cell_type": "code",
   "execution_count": 1,
   "metadata": {},
   "outputs": [],
   "source": [
    "import os\n",
    "import pandas as pd\n",
    "\n",
    "from kb_utils import atomic_apply_template, conceptnet_apply_template"
   ]
  },
  {
   "cell_type": "markdown",
   "metadata": {},
   "source": [
    "# 1. ATOMIC Dataset\n"
   ]
  },
  {
   "cell_type": "code",
   "execution_count": 13,
   "metadata": {},
   "outputs": [],
   "source": [
    "import pickle\n",
    "import random\n",
    "\n",
    "def load_pickled_data(fname, shuffle = True):\n",
    "    \"load pickled dataset\"\n",
    "    with open(fname, 'rb') as f:\n",
    "        data = pickle.load(f)\n",
    "    random.shuffle(data)\n",
    "    return data"
   ]
  },
  {
   "cell_type": "code",
   "execution_count": 6,
   "metadata": {},
   "outputs": [],
   "source": [
    "atomic_dir = \"\"\n",
    "train_atomic = load_pickled_data(os.path.join(atomic_dir, \"train_atomic.pkl\"))\n",
    "val_atomic = load_pickled_data(os.path.join(atomic_dir, \"dev_atomic.pkl\"))\n",
    "test_atomic = load_pickled_data(os.path.join(atomic_dir, \"test_atomic.pkl\"))"
   ]
  },
  {
   "cell_type": "code",
   "execution_count": 7,
   "metadata": {},
   "outputs": [
    {
     "name": "stdout",
     "output_type": "stream",
     "text": [
      "ATOMIC Train 593199, Val 66558, Test 72952\n"
     ]
    },
    {
     "data": {
      "text/plain": [
       "[('PersonX visits the city',\n",
       "  'PersonX had to make arrangements on how to get there',\n",
       "  'xNeed'),\n",
       " (\"PersonX plays PersonY's favorite song\",\n",
       "  'PersonX had to have music system',\n",
       "  'xNeed'),\n",
       " (\"PersonX unbuckles PersonY's belt\", 'PersonX wants to laugh', 'xWant')]"
      ]
     },
     "execution_count": 7,
     "metadata": {},
     "output_type": "execute_result"
    }
   ],
   "source": [
    "print(\"ATOMIC Train {}, Val {}, Test {}\".format(len(train_atomic), len(val_atomic), len(test_atomic)))\n",
    "test_atomic[:3]"
   ]
  },
  {
   "cell_type": "code",
   "execution_count": 9,
   "metadata": {},
   "outputs": [],
   "source": [
    "def apply_atomic_input_template(row):\n",
    "    source, target, relation = row\n",
    "    source =  source.strip()\n",
    "    target =  target.strip()\n",
    "    if not source[-1] in [\".\", \"?\", \"!\"]:\n",
    "        source+=\".\"\n",
    "    if not target[-1] in [\".\", \"?\", \"!\"]:\n",
    "        target+=\".\"\n",
    "    return f\"{source} {target}\""
   ]
  },
  {
   "cell_type": "code",
   "execution_count": 10,
   "metadata": {},
   "outputs": [],
   "source": [
    "## apply template\n",
    "train_atomic_processed = list(map(apply_atomic_input_template, train_atomic))\n",
    "val_atomic_processed = list(map(apply_atomic_input_template, val_atomic))\n",
    "test_atomic_processed = list(map(apply_atomic_input_template, test_atomic))"
   ]
  },
  {
   "cell_type": "code",
   "execution_count": null,
   "metadata": {},
   "outputs": [],
   "source": [
    "if not os.path.exists(\"kb\"):\n",
    "    os.makedirs(\"kb\")"
   ]
  },
  {
   "cell_type": "code",
   "execution_count": 18,
   "metadata": {},
   "outputs": [],
   "source": [
    "atomic_train_df = pd.DataFrame.from_dict({\"source\": train_atomic_processed})\n",
    "atomic_val_df = pd.DataFrame.from_dict({\"source\": val_atomic_processed})\n",
    "atomic_test_df = pd.DataFrame.from_dict({\"source\": test_atomic_processed})\n",
    "# atomic_train_df.to_csv(\"kb/atomic-train.tsv\", sep = \"\\t\", index = None)\n",
    "# atomic_val_df.to_csv(\"kb/atomic-val.tsv\", sep = \"\\t\", index = None)\n",
    "# atomic_test_df.to_csv(\"kb/atomic-test.tsv\", sep = \"\\t\", index = None)"
   ]
  },
  {
   "cell_type": "code",
   "execution_count": null,
   "metadata": {},
   "outputs": [],
   "source": [
    "if not os.path.exists(\"kb-0.3\"):\n",
    "    os.makedirs(\"kb-0.3\")"
   ]
  },
  {
   "cell_type": "code",
   "execution_count": null,
   "metadata": {},
   "outputs": [],
   "source": [
    "# atomic_train_df.sample(int(atomic_train_df.shape[0]*0.3)).to_csv(\"kb/-0.3atomic-train.tsv\", sep = \"\\t\", index = None)\n",
    "# atomic_val_df.sample(int(atomic_val_df.shape[0]*0.3)).to_csv(\"kb-0.3/atomic-val.tsv\", sep = \"\\t\", index = None)\n",
    "# atomic_test_df.sample(int(atomic_test_df.shape[0]*0.3)).to_csv(\"kb-0.3/atomic-test.tsv\", sep = \"\\t\", index = None)"
   ]
  },
  {
   "cell_type": "markdown",
   "metadata": {},
   "source": [
    "# 2. Conceptnet"
   ]
  },
  {
   "cell_type": "code",
   "execution_count": 30,
   "metadata": {},
   "outputs": [],
   "source": [
    "conceptnet_dir = \"/home/ubuntu/yrsong/research/240711_cngci/experiments/240725_train_new_gen/hyunju_datasets\"\n",
    "train_conceptnet = load_pickled_data(os.path.join(conceptnet_dir, \"train_conceptnet.pkl\"))\n",
    "test_conceptnet = load_pickled_data(os.path.join(conceptnet_dir, \"test_conceptnet.pkl\"))"
   ]
  },
  {
   "cell_type": "code",
   "execution_count": 16,
   "metadata": {},
   "outputs": [
    {
     "name": "stdout",
     "output_type": "stream",
     "text": [
      "Conceptnet Train 2723404, Test 303009\n"
     ]
    },
    {
     "data": {
      "text/plain": [
       "[('Governments can govern peasants', 'CapableOf'),\n",
       " ('v is related to vomit', 'RelatedTo'),\n",
       " ('a is related to hebraiser', 'RelatedTo')]"
      ]
     },
     "execution_count": 16,
     "metadata": {},
     "output_type": "execute_result"
    }
   ],
   "source": [
    "print(\"Conceptnet Train {}, Test {}\".format(len(train_conceptnet), len(test_conceptnet)))\n",
    "test_conceptnet[:3]"
   ]
  },
  {
   "cell_type": "code",
   "execution_count": 31,
   "metadata": {},
   "outputs": [
    {
     "name": "stdout",
     "output_type": "stream",
     "text": [
      "177959 19967\n",
      "CONCEPTNET Train 177959, Val 19967, Test 1000\n"
     ]
    }
   ],
   "source": [
    "train_size = int(atomic_train_df.shape[0]*0.3)\n",
    "val_size = int(atomic_val_df.shape[0]*0.3)\n",
    "print(train_size, val_size)\n",
    "train_sampled_conceptnet =  train_conceptnet[:train_size]\n",
    "val_sampled_conceptnet =  train_conceptnet[train_size:train_size+val_size]\n",
    "test_conceptnet = test_conceptnet[-1000:]\n",
    "print(\"CONCEPTNET Train {}, Val {}, Test {}\".format(len(train_sampled_conceptnet), len(val_sampled_conceptnet), len(test_conceptnet)))"
   ]
  },
  {
   "cell_type": "code",
   "execution_count": 32,
   "metadata": {},
   "outputs": [],
   "source": [
    "# pd.DataFrame.from_dict({\"source\": [x[0] for x in train_sampled_conceptnet]}).to_csv(\"kb-0.3/conceptnet-train.tsv\", sep = \"\\t\", index = None)\n",
    "# pd.DataFrame.from_dict({\"source\": [x[0] for x in val_sampled_conceptnet]}).to_csv(\"kb-0.3/conceptnet-val.tsv\", sep = \"\\t\", index = None)\n",
    "# pd.DataFrame.from_dict({\"source\": [x[0] for x in test_conceptnet]}).to_csv(\"kb-0.3/conceptnet-test.tsv\", sep = \"\\t\", index = None)"
   ]
  }
 ],
 "metadata": {
  "kernelspec": {
   "display_name": "yrsong_roc",
   "language": "python",
   "name": "yrsong_roc"
  },
  "language_info": {
   "codemirror_mode": {
    "name": "ipython",
    "version": 3
   },
   "file_extension": ".py",
   "mimetype": "text/x-python",
   "name": "python",
   "nbconvert_exporter": "python",
   "pygments_lexer": "ipython3",
   "version": "3.8.18"
  }
 },
 "nbformat": 4,
 "nbformat_minor": 2
}
