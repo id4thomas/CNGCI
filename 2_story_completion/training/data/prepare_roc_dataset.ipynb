{
 "cells": [
  {
   "cell_type": "markdown",
   "metadata": {},
   "source": [
    "# Preparing ROCStories Data"
   ]
  },
  {
   "cell_type": "markdown",
   "metadata": {},
   "source": [
    "# 1. Load defeasible-inference Classifier\n",
    "* Model which predicts whether `update` is a weakener given `premise` & `hypothesis`\n",
    "* trained using delta-atomic part of defeasible-nli dataset \n",
    "    * roberta-large based, follows the Rudinger et al. paper"
   ]
  },
  {
   "cell_type": "code",
   "execution_count": 1,
   "metadata": {},
   "outputs": [
    {
     "name": "stdout",
     "output_type": "stream",
     "text": [
      "Model Loaded\n"
     ]
    }
   ],
   "source": [
    "## Load weakener classifier\n",
    "import torch\n",
    "from transformers import AutoModel, AutoTokenizer, AutoModelForSequenceClassification\n",
    "from transformers import pipeline\n",
    "device = torch.device(\"cuda\")\n",
    "\n",
    "model_dir = \"\" ## put classifier directory here\n",
    "tokenizer = AutoTokenizer.from_pretrained(model_dir)\n",
    "model = AutoModelForSequenceClassification.from_pretrained(model_dir)\n",
    "model.to(device)\n",
    "model.eval()\n",
    "print(\"Model Loaded\")\n",
    "\n",
    "clf_pipe = pipeline(\"text-classification\", model = model, tokenizer = tokenizer, device = device)"
   ]
  },
  {
   "cell_type": "code",
   "execution_count": 2,
   "metadata": {},
   "outputs": [],
   "source": [
    "from typing import List\n",
    "map_label = lambda x: 0 if x[\"label\"]==\"LABEL_0\" else 1\n",
    "map_scores = lambda x: 1-x[\"score\"] if x[\"label\"]==\"LABEL_0\" else x[\"score\"]\n",
    "\n",
    "def prepare_model_input(premise: str, hypothesis: str, update: str) -> str:\n",
    "\tinput_text = f\"[premise] {premise} [hypo] {hypothesis} [update] {update}\"\n",
    "\treturn input_text\n",
    "\n",
    "def predict_defeasible_inf(clf_pipe, sources: List[str], batch_size: int = 8) -> List[int]:\n",
    "\tout = clf_pipe(sources, batch_size = batch_size)\n",
    "\tlabels = list(map(map_label, out))\n",
    "\treturn labels"
   ]
  },
  {
   "cell_type": "code",
   "execution_count": 3,
   "metadata": {},
   "outputs": [],
   "source": [
    "import pandas as pd\n",
    "from sklearn.model_selection import train_test_split"
   ]
  },
  {
   "cell_type": "code",
   "execution_count": 5,
   "metadata": {},
   "outputs": [
    {
     "name": "stdout",
     "output_type": "stream",
     "text": [
      "(45496, 7) Index(['storyid', 'storytitle', 'sentence1', 'sentence2', 'sentence3',\n",
      "       'sentence4', 'sentence5'],\n",
      "      dtype='object')\n",
      "(52665, 7) Index(['storyid', 'storytitle', 'sentence1', 'sentence2', 'sentence3',\n",
      "       'sentence4', 'sentence5'],\n",
      "      dtype='object')\n",
      "(98161, 7) Index(['storyid', 'storytitle', 'sentence1', 'sentence2', 'sentence3',\n",
      "       'sentence4', 'sentence5'],\n",
      "      dtype='object')\n"
     ]
    }
   ],
   "source": [
    "'''\n",
    "(45496, 7) Index(['storyid', 'storytitle', 'sentence1', 'sentence2', 'sentence3',\n",
    "       'sentence4', 'sentence5'],\n",
    "      dtype='object')\n",
    "(52665, 7) Index(['storyid', 'storytitle', 'sentence1', 'sentence2', 'sentence3',\n",
    "       'sentence4', 'sentence5'],\n",
    "      dtype='object')\n",
    "(98161, 7) Index(['storyid', 'storytitle', 'sentence1', 'sentence2', 'sentence3',\n",
    "       'sentence4', 'sentence5'],\n",
    "      dtype='object')\n",
    "'''\n",
    "\n",
    "roc16 = pd.read_csv(\"ROCStories__spring2016 - ROCStories_spring2016.csv\")\n",
    "print(roc16.shape, roc16.columns)\n",
    "roc17 = pd.read_csv(\"ROCStories_winter2017 - ROCStories_winter2017.csv\")\n",
    "print(roc17.shape, roc17.columns)\n",
    "\n",
    "roc_df = pd.concat([roc16, roc17])\n",
    "print(roc_df.shape, roc_df.columns)"
   ]
  },
  {
   "cell_type": "code",
   "execution_count": 6,
   "metadata": {},
   "outputs": [
    {
     "name": "stdout",
     "output_type": "stream",
     "text": [
      "train 79509, val 8835, test 9817\n"
     ]
    }
   ],
   "source": [
    "'''train 79509, val 8835, test 9817'''\n",
    "train_df, test_df = train_test_split(roc_df, test_size = 0.1, shuffle = True)\n",
    "train_df, val_df = train_test_split(train_df, test_size = 0.1, shuffle=True)\n",
    "print(\"train {}, val {}, test {}\".format(train_df.shape[0], val_df.shape[0], test_df.shape[0]))"
   ]
  },
  {
   "cell_type": "markdown",
   "metadata": {},
   "source": [
    "# 2. Analyze weakener ratio of each positions\n",
    "* check if sentence position 2,3,4 is a weakener\n",
    "    * premise (sentence 1), hypothesis (sentence 5)\n",
    "* only select samples which classifies position 3 as weakener"
   ]
  },
  {
   "cell_type": "code",
   "execution_count": 7,
   "metadata": {},
   "outputs": [],
   "source": [
    "## Prepare classifier input\n",
    "from typing import List\n",
    "def prepare_defeasible_inf_input(df: pd.DataFrame, obs_pos_idx: int = 2) -> List[str]:\n",
    "\tsources = []\n",
    "\tfor i in range(df.shape[0]):\n",
    "\t\trow = df.iloc[i]\n",
    "\t\tpremise = row['sentence1']\n",
    "\t\thypothesis = row['sentence5']\n",
    "\t\tupdate = row[f'sentence{obs_pos_idx+1}']\n",
    "\t\tsource = prepare_model_input(premise=premise,hypothesis=hypothesis,update=update)\n",
    "\t\tsources.append(source)\n",
    "\treturn sources"
   ]
  },
  {
   "cell_type": "code",
   "execution_count": 8,
   "metadata": {},
   "outputs": [
    {
     "name": "stdout",
     "output_type": "stream",
     "text": [
      "Pos 1 - Test weakener ratio 0.488\n",
      "Pos 2 - Test weakener ratio 0.450\n",
      "Pos 3 - Test weakener ratio 0.344\n"
     ]
    }
   ],
   "source": [
    "## Check Weakener ratio\n",
    "'''\n",
    "Pos 1 - Test weakener ratio 0.488\n",
    "Pos 2 - Test weakener ratio 0.450\n",
    "Pos 3 - Test weakener ratio 0.344\n",
    "'''\n",
    "labels = []\n",
    "for obs_pos_idx in [1,2,3]: ## Sentence 2,3,4\n",
    "\ttest_defeasible_inf_sources = prepare_defeasible_inf_input(test_df, obs_pos_idx=obs_pos_idx)\n",
    "\t# test_defeasible_inf_sources[:4]\n",
    "\n",
    "\ttest_labels = predict_defeasible_inf(clf_pipe=clf_pipe, sources = test_defeasible_inf_sources, batch_size = 32)\n",
    "\tprint(\"Pos {} - Test weakener ratio {:.3f}\".format(obs_pos_idx, sum(test_labels)/len(test_labels)))\n",
    "\tlabels.append(test_labels)"
   ]
  },
  {
   "cell_type": "code",
   "execution_count": 12,
   "metadata": {},
   "outputs": [
    {
     "name": "stdout",
     "output_type": "stream",
     "text": [
      "Pos 1 or 2 - Test weakener ratio 0.682\n"
     ]
    }
   ],
   "source": [
    "num_samples = len(labels[0])\n",
    "obs_1_2_labels = [1 if labels[0][i]==1 or labels[1][i]==1 else 0 for i in range(num_samples)]\n",
    "print(\"Pos 1 or 2 - Test weakener ratio {:.3f}\".format(sum(obs_1_2_labels)/len(obs_1_2_labels)))\n",
    "# Pos 1 or 2 - Test weakener ratio 0.682"
   ]
  },
  {
   "cell_type": "code",
   "execution_count": 13,
   "metadata": {},
   "outputs": [],
   "source": [
    "def prepare_data(df: pd.DataFrame) -> pd.DataFrame:\n",
    "\t## Predict Defeasible Inference\n",
    "\tpos1_defeasible_inf_sources = prepare_defeasible_inf_input(df, obs_pos_idx=1)\n",
    "\tpos1_weakener_labels = predict_defeasible_inf(clf_pipe=clf_pipe, sources = pos1_defeasible_inf_sources, batch_size = 32)\n",
    "\tpos2_defeasible_inf_sources = prepare_defeasible_inf_input(df, obs_pos_idx=2)\n",
    "\tpos2_weakener_labels = predict_defeasible_inf(clf_pipe=clf_pipe, sources = pos2_defeasible_inf_sources, batch_size = 32)\n",
    "\n",
    "\t## \n",
    "\tprepared = {\n",
    "\t\t\"id\": [],\n",
    "\t\t\"obs_idx\": [],\n",
    "\t\t\"source\": []\n",
    "\t}\n",
    "\tstory_ids = df.index.tolist()\n",
    "\tfor i in range(df.shape[0]):\n",
    "\t\trow = df.iloc[i]\n",
    "\t\tstory_id = story_ids[i]\n",
    "\n",
    "\t\tpos1_weakener_label = pos1_weakener_labels[i]\n",
    "\t\tpos2_weakener_label = pos2_weakener_labels[i]\n",
    "\n",
    "\t\tif pos2_weakener_label==1: ## select samples with S3 as obstacle\n",
    "\t\t\tobs_idx = 2\n",
    "\t\t\tsource = \"<ctx> {} <obs> {} <story><ctx> {} <obs> {} {}\".format(\n",
    "\t\t\t\trow['sentence1'], ## context\n",
    "\t\t\t\trow['sentence3'], ## obstacle\n",
    "\t\t\t\trow['sentence2'], ## S2\n",
    "\t\t\t\trow['sentence4'], ## S4\n",
    "\t\t\t\trow['sentence5'], ## S5\n",
    "\t\t\t)\n",
    "\t\telse:\n",
    "\t\t\tcontinue\n",
    "\t\t\n",
    "\t\tprepared['id'].append(story_id)\n",
    "\t\tprepared['obs_idx'].append(obs_idx)\n",
    "\t\tprepared['source'].append(source)\n",
    "\treturn pd.DataFrame.from_dict(prepared)"
   ]
  },
  {
   "cell_type": "code",
   "execution_count": 15,
   "metadata": {},
   "outputs": [
    {
     "name": "stdout",
     "output_type": "stream",
     "text": [
      "(35778, 3)\n"
     ]
    },
    {
     "data": {
      "text/html": [
       "<div>\n",
       "<style scoped>\n",
       "    .dataframe tbody tr th:only-of-type {\n",
       "        vertical-align: middle;\n",
       "    }\n",
       "\n",
       "    .dataframe tbody tr th {\n",
       "        vertical-align: top;\n",
       "    }\n",
       "\n",
       "    .dataframe thead th {\n",
       "        text-align: right;\n",
       "    }\n",
       "</style>\n",
       "<table border=\"1\" class=\"dataframe\">\n",
       "  <thead>\n",
       "    <tr style=\"text-align: right;\">\n",
       "      <th></th>\n",
       "      <th>id</th>\n",
       "      <th>obs_idx</th>\n",
       "      <th>source</th>\n",
       "    </tr>\n",
       "  </thead>\n",
       "  <tbody>\n",
       "    <tr>\n",
       "      <th>0</th>\n",
       "      <td>23267</td>\n",
       "      <td>2</td>\n",
       "      <td>&lt;ctx&gt; Tom and Emily were going to have a baby!...</td>\n",
       "    </tr>\n",
       "    <tr>\n",
       "      <th>1</th>\n",
       "      <td>47771</td>\n",
       "      <td>2</td>\n",
       "      <td>&lt;ctx&gt; Lars drove Millie to the ferry. &lt;obs&gt; Sh...</td>\n",
       "    </tr>\n",
       "    <tr>\n",
       "      <th>2</th>\n",
       "      <td>3958</td>\n",
       "      <td>2</td>\n",
       "      <td>&lt;ctx&gt; Last month I got a new haircut. &lt;obs&gt; I ...</td>\n",
       "    </tr>\n",
       "    <tr>\n",
       "      <th>3</th>\n",
       "      <td>15978</td>\n",
       "      <td>2</td>\n",
       "      <td>&lt;ctx&gt; Jessie ran a dog sitting company. &lt;obs&gt; ...</td>\n",
       "    </tr>\n",
       "    <tr>\n",
       "      <th>4</th>\n",
       "      <td>3704</td>\n",
       "      <td>2</td>\n",
       "      <td>&lt;ctx&gt; Sharon was trying to lose weight. &lt;obs&gt; ...</td>\n",
       "    </tr>\n",
       "  </tbody>\n",
       "</table>\n",
       "</div>"
      ],
      "text/plain": [
       "      id  obs_idx                                             source\n",
       "0  23267        2  <ctx> Tom and Emily were going to have a baby!...\n",
       "1  47771        2  <ctx> Lars drove Millie to the ferry. <obs> Sh...\n",
       "2   3958        2  <ctx> Last month I got a new haircut. <obs> I ...\n",
       "3  15978        2  <ctx> Jessie ran a dog sitting company. <obs> ...\n",
       "4   3704        2  <ctx> Sharon was trying to lose weight. <obs> ..."
      ]
     },
     "execution_count": 15,
     "metadata": {},
     "output_type": "execute_result"
    }
   ],
   "source": [
    "prepared_train_df = prepare_data(train_df)\n",
    "print(prepared_train_df.shape)\n",
    "prepared_train_df.head()"
   ]
  },
  {
   "cell_type": "code",
   "execution_count": 16,
   "metadata": {},
   "outputs": [
    {
     "name": "stdout",
     "output_type": "stream",
     "text": [
      "(3994, 3)\n"
     ]
    },
    {
     "data": {
      "text/html": [
       "<div>\n",
       "<style scoped>\n",
       "    .dataframe tbody tr th:only-of-type {\n",
       "        vertical-align: middle;\n",
       "    }\n",
       "\n",
       "    .dataframe tbody tr th {\n",
       "        vertical-align: top;\n",
       "    }\n",
       "\n",
       "    .dataframe thead th {\n",
       "        text-align: right;\n",
       "    }\n",
       "</style>\n",
       "<table border=\"1\" class=\"dataframe\">\n",
       "  <thead>\n",
       "    <tr style=\"text-align: right;\">\n",
       "      <th></th>\n",
       "      <th>id</th>\n",
       "      <th>obs_idx</th>\n",
       "      <th>source</th>\n",
       "    </tr>\n",
       "  </thead>\n",
       "  <tbody>\n",
       "    <tr>\n",
       "      <th>0</th>\n",
       "      <td>32539</td>\n",
       "      <td>2</td>\n",
       "      <td>&lt;ctx&gt; Cathy couldn't understand why her baby h...</td>\n",
       "    </tr>\n",
       "    <tr>\n",
       "      <th>1</th>\n",
       "      <td>24080</td>\n",
       "      <td>2</td>\n",
       "      <td>&lt;ctx&gt; Jake was walking along a bike bath. &lt;obs...</td>\n",
       "    </tr>\n",
       "    <tr>\n",
       "      <th>2</th>\n",
       "      <td>17313</td>\n",
       "      <td>2</td>\n",
       "      <td>&lt;ctx&gt; Jerry was bored in class. &lt;obs&gt; His prof...</td>\n",
       "    </tr>\n",
       "    <tr>\n",
       "      <th>3</th>\n",
       "      <td>35321</td>\n",
       "      <td>2</td>\n",
       "      <td>&lt;ctx&gt; I called the Chinese Restaurant and orde...</td>\n",
       "    </tr>\n",
       "    <tr>\n",
       "      <th>4</th>\n",
       "      <td>52314</td>\n",
       "      <td>2</td>\n",
       "      <td>&lt;ctx&gt; Larry had a wonderful relationship and a...</td>\n",
       "    </tr>\n",
       "  </tbody>\n",
       "</table>\n",
       "</div>"
      ],
      "text/plain": [
       "      id  obs_idx                                             source\n",
       "0  32539        2  <ctx> Cathy couldn't understand why her baby h...\n",
       "1  24080        2  <ctx> Jake was walking along a bike bath. <obs...\n",
       "2  17313        2  <ctx> Jerry was bored in class. <obs> His prof...\n",
       "3  35321        2  <ctx> I called the Chinese Restaurant and orde...\n",
       "4  52314        2  <ctx> Larry had a wonderful relationship and a..."
      ]
     },
     "execution_count": 16,
     "metadata": {},
     "output_type": "execute_result"
    }
   ],
   "source": [
    "prepared_val_df = prepare_data(val_df)\n",
    "print(prepared_val_df.shape)\n",
    "prepared_val_df.head()"
   ]
  },
  {
   "cell_type": "code",
   "execution_count": 17,
   "metadata": {},
   "outputs": [
    {
     "name": "stdout",
     "output_type": "stream",
     "text": [
      "(4419, 3)\n"
     ]
    },
    {
     "data": {
      "text/html": [
       "<div>\n",
       "<style scoped>\n",
       "    .dataframe tbody tr th:only-of-type {\n",
       "        vertical-align: middle;\n",
       "    }\n",
       "\n",
       "    .dataframe tbody tr th {\n",
       "        vertical-align: top;\n",
       "    }\n",
       "\n",
       "    .dataframe thead th {\n",
       "        text-align: right;\n",
       "    }\n",
       "</style>\n",
       "<table border=\"1\" class=\"dataframe\">\n",
       "  <thead>\n",
       "    <tr style=\"text-align: right;\">\n",
       "      <th></th>\n",
       "      <th>id</th>\n",
       "      <th>obs_idx</th>\n",
       "      <th>source</th>\n",
       "    </tr>\n",
       "  </thead>\n",
       "  <tbody>\n",
       "    <tr>\n",
       "      <th>0</th>\n",
       "      <td>8022</td>\n",
       "      <td>2</td>\n",
       "      <td>&lt;ctx&gt; I wanted to sell jewelry online. &lt;obs&gt; I...</td>\n",
       "    </tr>\n",
       "    <tr>\n",
       "      <th>1</th>\n",
       "      <td>15887</td>\n",
       "      <td>2</td>\n",
       "      <td>&lt;ctx&gt; Larry and his dad got up early to go fis...</td>\n",
       "    </tr>\n",
       "    <tr>\n",
       "      <th>2</th>\n",
       "      <td>3255</td>\n",
       "      <td>2</td>\n",
       "      <td>&lt;ctx&gt; Gina had been bullied during recess. &lt;ob...</td>\n",
       "    </tr>\n",
       "    <tr>\n",
       "      <th>3</th>\n",
       "      <td>52252</td>\n",
       "      <td>2</td>\n",
       "      <td>&lt;ctx&gt; The ball got stuck on the roof. &lt;obs&gt; Hi...</td>\n",
       "    </tr>\n",
       "    <tr>\n",
       "      <th>4</th>\n",
       "      <td>26952</td>\n",
       "      <td>2</td>\n",
       "      <td>&lt;ctx&gt; Gabby was interested in joining the loca...</td>\n",
       "    </tr>\n",
       "  </tbody>\n",
       "</table>\n",
       "</div>"
      ],
      "text/plain": [
       "      id  obs_idx                                             source\n",
       "0   8022        2  <ctx> I wanted to sell jewelry online. <obs> I...\n",
       "1  15887        2  <ctx> Larry and his dad got up early to go fis...\n",
       "2   3255        2  <ctx> Gina had been bullied during recess. <ob...\n",
       "3  52252        2  <ctx> The ball got stuck on the roof. <obs> Hi...\n",
       "4  26952        2  <ctx> Gabby was interested in joining the loca..."
      ]
     },
     "execution_count": 17,
     "metadata": {},
     "output_type": "execute_result"
    }
   ],
   "source": [
    "prepared_test_df = prepare_data(test_df)\n",
    "print(prepared_test_df.shape)\n",
    "prepared_test_df.head()"
   ]
  },
  {
   "cell_type": "markdown",
   "metadata": {},
   "source": [
    "# Save Processed Files"
   ]
  },
  {
   "cell_type": "code",
   "execution_count": 19,
   "metadata": {},
   "outputs": [],
   "source": [
    "import os\n",
    "save_dir = \"roc\"\n",
    "if not os.path.exists(save_dir):\n",
    "\tos.makedirs(save_dir)"
   ]
  },
  {
   "cell_type": "code",
   "execution_count": 20,
   "metadata": {},
   "outputs": [],
   "source": [
    "## Save Files\n",
    "prepared_train_df.to_csv(os.path.join(save_dir, \"roc-train.tsv\"), sep = \"\\t\", index = None)\n",
    "prepared_val_df.to_csv(os.path.join(save_dir, \"roc-val.tsv\"), sep = \"\\t\", index = None)\n",
    "prepared_test_df.to_csv(os.path.join(save_dir, \"roc-test.tsv\"), sep = \"\\t\", index = None)"
   ]
  },
  {
   "cell_type": "code",
   "execution_count": 21,
   "metadata": {},
   "outputs": [
    {
     "name": "stdout",
     "output_type": "stream",
     "text": [
      "(35778, 3) (3994, 3) (4419, 3)\n"
     ]
    }
   ],
   "source": [
    "print(prepared_train_df.shape, prepared_val_df.shape, prepared_test_df.shape)"
   ]
  }
 ],
 "metadata": {
  "kernelspec": {
   "display_name": "yrsong_roc",
   "language": "python",
   "name": "yrsong_roc"
  },
  "language_info": {
   "codemirror_mode": {
    "name": "ipython",
    "version": 3
   },
   "file_extension": ".py",
   "mimetype": "text/x-python",
   "name": "python",
   "nbconvert_exporter": "python",
   "pygments_lexer": "ipython3",
   "version": "3.8.18"
  }
 },
 "nbformat": 4,
 "nbformat_minor": 2
}
